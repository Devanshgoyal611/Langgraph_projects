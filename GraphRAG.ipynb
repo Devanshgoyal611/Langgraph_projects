{
  "cells": [
    {
      "cell_type": "code",
      "execution_count": 12,
      "metadata": {
        "id": "8qaPCc5mrVz3"
      },
      "outputs": [],
      "source": [
        "import os\n",
        "import dotenv\n",
        "\n",
        "load_dotenv = dotenv.load_dotenv('.env')\n",
        "NEO4J_URI = os.getenv('NEO4J_URI')\n",
        "NEO4J_USERNAME = os.getenv('NEO4J_USERNAME')\n",
        "NEO4J_PASSWORD = os.getenv('NEO4J_PASSWORD')\n",
        "\n",
        "os.environ['NEO4J_URI'] = NEO4J_URI\n",
        "os.environ['NEO4J_USERNAME'] = NEO4J_USERNAME\n",
        "os.environ['NEO4J_PASSWORD'] = NEO4J_PASSWORD"
      ]
    },
    {
      "cell_type": "code",
      "execution_count": 13,
      "metadata": {
        "colab": {
          "base_uri": "https://localhost:8080/"
        },
        "id": "I4E7g-j5scqM",
        "outputId": "6d5d00e3-4afb-4474-bf42-1804c5b4e45a"
      },
      "outputs": [],
      "source": [
        "from langchain_community.graphs import Neo4jGraph\n",
        "graph = Neo4jGraph(\n",
        "    url=os.environ['NEO4J_URI'],\n",
        "    username=os.environ['NEO4J_USERNAME'],\n",
        "    password=os.environ['NEO4J_PASSWORD']\n",
        ")"
      ]
    },
    {
      "cell_type": "code",
      "execution_count": 14,
      "metadata": {
        "colab": {
          "base_uri": "https://localhost:8080/"
        },
        "id": "XTENMUiZstOF",
        "outputId": "671f48a4-6797-4159-ded1-ab05eed7b900"
      },
      "outputs": [
        {
          "data": {
            "text/plain": [
              "<langchain_community.graphs.neo4j_graph.Neo4jGraph at 0x1e952eb8150>"
            ]
          },
          "execution_count": 14,
          "metadata": {},
          "output_type": "execute_result"
        }
      ],
      "source": [
        "graph"
      ]
    },
    {
      "cell_type": "code",
      "execution_count": 15,
      "metadata": {
        "id": "IbCkxBhV_QdX"
      },
      "outputs": [],
      "source": [
        "groq_api = os.getenv('groq_api')"
      ]
    },
    {
      "cell_type": "code",
      "execution_count": 16,
      "metadata": {
        "id": "GLfhf54XALES"
      },
      "outputs": [],
      "source": [
        "from langchain_groq import ChatGroq\n",
        "\n",
        "llm = ChatGroq(\n",
        "    groq_api_key=groq_api,\n",
        "    model = \"Gemma2-9b-It\"\n",
        ")"
      ]
    },
    {
      "cell_type": "code",
      "execution_count": 17,
      "metadata": {
        "id": "xsP2380kAXHE"
      },
      "outputs": [],
      "source": [
        "from langchain_core.documents import Document"
      ]
    },
    {
      "cell_type": "code",
      "execution_count": 18,
      "metadata": {
        "id": "MG_fgpJmAzig"
      },
      "outputs": [],
      "source": [
        "text = \"\"\"\n",
        "Elon Reeve Musk (born June 28, 1971) is a businessman and Senior Advisor to the\n",
        "U.S. President, best known for his key roles in Tesla, Inc., SpaceX, the\n",
        "Department of Government Efficiency (DOGE), and his ownership of Twitter.\n",
        "Musk is the wealthiest individual in the world; as of February 2025, Forbes estimates\n",
        "his net worth to be US$397 billion. Musk was born to an affluent South African\n",
        "family in Pretoria before immigrating to Canada, acquiring its citizenship from\n",
        "his mother. He moved to California in 1995 to attend Stanford University, and\n",
        "with his brother Kimbal co-founded the software company Zip2, which was acquired\n",
        "by Compaq in 1999. That same year, Musk co-founded X.com, a direct bank, that\n",
        "later formed PayPal. In 2002, Musk acquired U.S. citizenship, and eBay acquired\n",
        "PayPal. Using the money he made from the sale, Musk founded SpaceX, a spaceflight\n",
        "services company, in 2002. In 2004, Musk was an early investor in electric vehicle\n",
        "manufacturer Tesla and became its chairman and later CEO. In 2018, the U.S. Securities and Exchange Commission (SEC) sued Musk for fraud, alleging he falsely announced that he had secured funding for a private takeover of Tesla; he stepped down as chairman and paid a fine. Musk was named Time magazine's Person of the Year in 2021. In 2022, he acquired Twitter, and rebranded the service as X the following year. In January 2025, he was appointed head of Trump's newly created DOGE.\n",
        "\"\"\""
      ]
    },
    {
      "cell_type": "code",
      "execution_count": 19,
      "metadata": {
        "colab": {
          "base_uri": "https://localhost:8080/"
        },
        "id": "8cjJrJWgBr2W",
        "outputId": "2bb95091-d7f0-42a2-b89e-8e47729841ab"
      },
      "outputs": [
        {
          "data": {
            "text/plain": [
              "[Document(metadata={}, page_content=\"\\nElon Reeve Musk (born June 28, 1971) is a businessman and Senior Advisor to the\\nU.S. President, best known for his key roles in Tesla, Inc., SpaceX, the\\nDepartment of Government Efficiency (DOGE), and his ownership of Twitter.\\nMusk is the wealthiest individual in the world; as of February 2025, Forbes estimates\\nhis net worth to be US$397 billion. Musk was born to an affluent South African\\nfamily in Pretoria before immigrating to Canada, acquiring its citizenship from\\nhis mother. He moved to California in 1995 to attend Stanford University, and\\nwith his brother Kimbal co-founded the software company Zip2, which was acquired\\nby Compaq in 1999. That same year, Musk co-founded X.com, a direct bank, that\\nlater formed PayPal. In 2002, Musk acquired U.S. citizenship, and eBay acquired\\nPayPal. Using the money he made from the sale, Musk founded SpaceX, a spaceflight\\nservices company, in 2002. In 2004, Musk was an early investor in electric vehicle\\nmanufacturer Tesla and became its chairman and later CEO. In 2018, the U.S. Securities and Exchange Commission (SEC) sued Musk for fraud, alleging he falsely announced that he had secured funding for a private takeover of Tesla; he stepped down as chairman and paid a fine. Musk was named Time magazine's Person of the Year in 2021. In 2022, he acquired Twitter, and rebranded the service as X the following year. In January 2025, he was appointed head of Trump's newly created DOGE.\\n\")]"
            ]
          },
          "execution_count": 19,
          "metadata": {},
          "output_type": "execute_result"
        }
      ],
      "source": [
        "documents = [Document(page_content=text)]\n",
        "documents"
      ]
    },
    {
      "cell_type": "code",
      "execution_count": 20,
      "metadata": {
        "id": "tEOKCfjTB0rV"
      },
      "outputs": [],
      "source": [
        "from langchain_experimental.graph_transformers import LLMGraphTransformer"
      ]
    },
    {
      "cell_type": "code",
      "execution_count": 21,
      "metadata": {
        "id": "BdSy95zFCHCN"
      },
      "outputs": [],
      "source": [
        "llm_transformer = LLMGraphTransformer(llm=llm)\n",
        "\n",
        "graph_document = llm_transformer.convert_to_graph_documents(documents)"
      ]
    },
    {
      "cell_type": "code",
      "execution_count": 22,
      "metadata": {
        "colab": {
          "base_uri": "https://localhost:8080/"
        },
        "id": "dObsWrnvCReC",
        "outputId": "675c8cf9-7512-4bbc-befd-b4ed8b3e19c6"
      },
      "outputs": [
        {
          "data": {
            "text/plain": [
              "[GraphDocument(nodes=[Node(id='Elon Reeve Musk', type='Person', properties={}), Node(id='Tesla, Inc.', type='Organization', properties={}), Node(id='Spacex', type='Organization', properties={}), Node(id='Department Of Government Efficiency (Doge)', type='Organization', properties={}), Node(id='Twitter', type='Organization', properties={}), Node(id='U.S. President', type='Person', properties={}), Node(id='Forbes', type='Organization', properties={}), Node(id='Compaq', type='Organization', properties={}), Node(id='Zip2', type='Organization', properties={}), Node(id='X.Com', type='Organization', properties={}), Node(id='Paypal', type='Organization', properties={}), Node(id='Ebay', type='Organization', properties={}), Node(id='U.S. Securities And Exchange Commission (Sec)', type='Organization', properties={}), Node(id='Time Magazine', type='Organization', properties={}), Node(id='Trump', type='Person', properties={}), Node(id='Stanford University', type='Organization', properties={}), Node(id='Kimbal', type='Person', properties={})], relationships=[Relationship(source=Node(id='Elon Reeve Musk', type='Person', properties={}), target=Node(id='Tesla, Inc.', type='Organization', properties={}), type='CEO', properties={}), Relationship(source=Node(id='Elon Reeve Musk', type='Person', properties={}), target=Node(id='Spacex', type='Organization', properties={}), type='FOUNDER', properties={}), Relationship(source=Node(id='Elon Reeve Musk', type='Person', properties={}), target=Node(id='Twitter', type='Organization', properties={}), type='OWNER', properties={}), Relationship(source=Node(id='Elon Reeve Musk', type='Person', properties={}), target=Node(id='U.S. President', type='Person', properties={}), type='ADVISOR', properties={}), Relationship(source=Node(id='Elon Reeve Musk', type='Person', properties={}), target=Node(id='Department Of Government Efficiency (Doge)', type='Organization', properties={}), type='HEAD', properties={}), Relationship(source=Node(id='Elon Reeve Musk', type='Person', properties={}), target=Node(id='Forbes', type='Organization', properties={}), type='NET_WORTH_VALUATION', properties={}), Relationship(source=Node(id='Elon Reeve Musk', type='Person', properties={}), target=Node(id='Compaq', type='Organization', properties={}), type='ACQUISITION_TARGET', properties={}), Relationship(source=Node(id='Elon Reeve Musk', type='Person', properties={}), target=Node(id='Zip2', type='Organization', properties={}), type='FOUNDER', properties={}), Relationship(source=Node(id='Elon Reeve Musk', type='Person', properties={}), target=Node(id='X.Com', type='Organization', properties={}), type='FOUNDER', properties={}), Relationship(source=Node(id='Elon Reeve Musk', type='Person', properties={}), target=Node(id='Paypal', type='Organization', properties={}), type='FOUNDER', properties={}), Relationship(source=Node(id='Elon Reeve Musk', type='Person', properties={}), target=Node(id='Ebay', type='Organization', properties={}), type='ACQUISITION', properties={}), Relationship(source=Node(id='Elon Reeve Musk', type='Person', properties={}), target=Node(id='U.S. Securities And Exchange Commission (Sec)', type='Organization', properties={}), type='LEGAL_ACTION', properties={}), Relationship(source=Node(id='Elon Reeve Musk', type='Person', properties={}), target=Node(id='Time Magazine', type='Organization', properties={}), type='PERSON_OF_THE_YEAR', properties={}), Relationship(source=Node(id='Elon Reeve Musk', type='Person', properties={}), target=Node(id='Trump', type='Person', properties={}), type='HEAD_APPOINTED', properties={}), Relationship(source=Node(id='Elon Reeve Musk', type='Person', properties={}), target=Node(id='Stanford University', type='Organization', properties={}), type='STUDENT', properties={}), Relationship(source=Node(id='Elon Reeve Musk', type='Person', properties={}), target=Node(id='Kimbal', type='Person', properties={}), type='BROTHER', properties={})], source=Document(metadata={}, page_content=\"\\nElon Reeve Musk (born June 28, 1971) is a businessman and Senior Advisor to the\\nU.S. President, best known for his key roles in Tesla, Inc., SpaceX, the\\nDepartment of Government Efficiency (DOGE), and his ownership of Twitter.\\nMusk is the wealthiest individual in the world; as of February 2025, Forbes estimates\\nhis net worth to be US$397 billion. Musk was born to an affluent South African\\nfamily in Pretoria before immigrating to Canada, acquiring its citizenship from\\nhis mother. He moved to California in 1995 to attend Stanford University, and\\nwith his brother Kimbal co-founded the software company Zip2, which was acquired\\nby Compaq in 1999. That same year, Musk co-founded X.com, a direct bank, that\\nlater formed PayPal. In 2002, Musk acquired U.S. citizenship, and eBay acquired\\nPayPal. Using the money he made from the sale, Musk founded SpaceX, a spaceflight\\nservices company, in 2002. In 2004, Musk was an early investor in electric vehicle\\nmanufacturer Tesla and became its chairman and later CEO. In 2018, the U.S. Securities and Exchange Commission (SEC) sued Musk for fraud, alleging he falsely announced that he had secured funding for a private takeover of Tesla; he stepped down as chairman and paid a fine. Musk was named Time magazine's Person of the Year in 2021. In 2022, he acquired Twitter, and rebranded the service as X the following year. In January 2025, he was appointed head of Trump's newly created DOGE.\\n\"))]"
            ]
          },
          "execution_count": 22,
          "metadata": {},
          "output_type": "execute_result"
        }
      ],
      "source": [
        "graph_document"
      ]
    },
    {
      "cell_type": "code",
      "execution_count": 23,
      "metadata": {
        "colab": {
          "base_uri": "https://localhost:8080/"
        },
        "id": "nGRkpPYZCkKV",
        "outputId": "53302e8d-13b4-4135-f724-83df2fb4e1c6"
      },
      "outputs": [
        {
          "data": {
            "text/plain": [
              "[Node(id='Elon Reeve Musk', type='Person', properties={}),\n",
              " Node(id='Tesla, Inc.', type='Organization', properties={}),\n",
              " Node(id='Spacex', type='Organization', properties={}),\n",
              " Node(id='Department Of Government Efficiency (Doge)', type='Organization', properties={}),\n",
              " Node(id='Twitter', type='Organization', properties={}),\n",
              " Node(id='U.S. President', type='Person', properties={}),\n",
              " Node(id='Forbes', type='Organization', properties={}),\n",
              " Node(id='Compaq', type='Organization', properties={}),\n",
              " Node(id='Zip2', type='Organization', properties={}),\n",
              " Node(id='X.Com', type='Organization', properties={}),\n",
              " Node(id='Paypal', type='Organization', properties={}),\n",
              " Node(id='Ebay', type='Organization', properties={}),\n",
              " Node(id='U.S. Securities And Exchange Commission (Sec)', type='Organization', properties={}),\n",
              " Node(id='Time Magazine', type='Organization', properties={}),\n",
              " Node(id='Trump', type='Person', properties={}),\n",
              " Node(id='Stanford University', type='Organization', properties={}),\n",
              " Node(id='Kimbal', type='Person', properties={})]"
            ]
          },
          "execution_count": 23,
          "metadata": {},
          "output_type": "execute_result"
        }
      ],
      "source": [
        "graph_document[0].nodes"
      ]
    },
    {
      "cell_type": "code",
      "execution_count": 24,
      "metadata": {
        "colab": {
          "base_uri": "https://localhost:8080/"
        },
        "id": "OYCLccd3C8JV",
        "outputId": "cfb8f4a1-84cb-4f30-95f8-150a067adfbc"
      },
      "outputs": [
        {
          "data": {
            "text/plain": [
              "[Relationship(source=Node(id='Elon Reeve Musk', type='Person', properties={}), target=Node(id='Tesla, Inc.', type='Organization', properties={}), type='CEO', properties={}),\n",
              " Relationship(source=Node(id='Elon Reeve Musk', type='Person', properties={}), target=Node(id='Spacex', type='Organization', properties={}), type='FOUNDER', properties={}),\n",
              " Relationship(source=Node(id='Elon Reeve Musk', type='Person', properties={}), target=Node(id='Twitter', type='Organization', properties={}), type='OWNER', properties={}),\n",
              " Relationship(source=Node(id='Elon Reeve Musk', type='Person', properties={}), target=Node(id='U.S. President', type='Person', properties={}), type='ADVISOR', properties={}),\n",
              " Relationship(source=Node(id='Elon Reeve Musk', type='Person', properties={}), target=Node(id='Department Of Government Efficiency (Doge)', type='Organization', properties={}), type='HEAD', properties={}),\n",
              " Relationship(source=Node(id='Elon Reeve Musk', type='Person', properties={}), target=Node(id='Forbes', type='Organization', properties={}), type='NET_WORTH_VALUATION', properties={}),\n",
              " Relationship(source=Node(id='Elon Reeve Musk', type='Person', properties={}), target=Node(id='Compaq', type='Organization', properties={}), type='ACQUISITION_TARGET', properties={}),\n",
              " Relationship(source=Node(id='Elon Reeve Musk', type='Person', properties={}), target=Node(id='Zip2', type='Organization', properties={}), type='FOUNDER', properties={}),\n",
              " Relationship(source=Node(id='Elon Reeve Musk', type='Person', properties={}), target=Node(id='X.Com', type='Organization', properties={}), type='FOUNDER', properties={}),\n",
              " Relationship(source=Node(id='Elon Reeve Musk', type='Person', properties={}), target=Node(id='Paypal', type='Organization', properties={}), type='FOUNDER', properties={}),\n",
              " Relationship(source=Node(id='Elon Reeve Musk', type='Person', properties={}), target=Node(id='Ebay', type='Organization', properties={}), type='ACQUISITION', properties={}),\n",
              " Relationship(source=Node(id='Elon Reeve Musk', type='Person', properties={}), target=Node(id='U.S. Securities And Exchange Commission (Sec)', type='Organization', properties={}), type='LEGAL_ACTION', properties={}),\n",
              " Relationship(source=Node(id='Elon Reeve Musk', type='Person', properties={}), target=Node(id='Time Magazine', type='Organization', properties={}), type='PERSON_OF_THE_YEAR', properties={}),\n",
              " Relationship(source=Node(id='Elon Reeve Musk', type='Person', properties={}), target=Node(id='Trump', type='Person', properties={}), type='HEAD_APPOINTED', properties={}),\n",
              " Relationship(source=Node(id='Elon Reeve Musk', type='Person', properties={}), target=Node(id='Stanford University', type='Organization', properties={}), type='STUDENT', properties={}),\n",
              " Relationship(source=Node(id='Elon Reeve Musk', type='Person', properties={}), target=Node(id='Kimbal', type='Person', properties={}), type='BROTHER', properties={})]"
            ]
          },
          "execution_count": 24,
          "metadata": {},
          "output_type": "execute_result"
        }
      ],
      "source": [
        "graph_document[0].relationships"
      ]
    },
    {
      "cell_type": "code",
      "execution_count": null,
      "metadata": {
        "id": "E-cRm7UeDI_z"
      },
      "outputs": [],
      "source": []
    },
    {
      "cell_type": "code",
      "execution_count": null,
      "metadata": {
        "id": "W-cUsvhjDiBu"
      },
      "outputs": [],
      "source": []
    },
    {
      "cell_type": "code",
      "execution_count": 25,
      "metadata": {
        "id": "ScNQOJZsDh-T"
      },
      "outputs": [],
      "source": [
        "# Loading data directly from csv\n",
        "\n",
        "# MERGE - inserts records if not present\n",
        "# SET - sets the properties of each record (here movie m)\n",
        "# FOREACH - to assign multiple directors to LABEL Person\n",
        "\n",
        "# MERGE (p)-[:DIRECTED]->(m)) - making director relationship(Directed) with movie\n",
        "\n",
        "movie_query=\"\"\"\n",
        "LOAD CSV WITH HEADERS FROM\n",
        "'https://raw.githubusercontent.com/tomasonjo/blog-datasets/main/movies/movies_small.csv' as row\n",
        "\n",
        "MERGE(m:Movie{id:row.movieId})\n",
        "SET m.released = date(row.released),\n",
        "    m.title = row.title,\n",
        "    m.imdbRating = toFloat(row.imdbRating)\n",
        "FOREACH (director in split(row.director, '|') |\n",
        "    MERGE (p:Person {name:trim(director)})\n",
        "    MERGE (p)-[:DIRECTED]->(m))\n",
        "FOREACH (actor in split(row.actors, '|') |\n",
        "    MERGE (p:Person {name:trim(actor)})\n",
        "    MERGE (p)-[:ACTED_IN]->(m))\n",
        "FOREACH (genre in split(row.genres, '|') |\n",
        "    MERGE (g:Genre {name:trim(genre)})\n",
        "    MERGE (m)-[:IN_GENRE]->(g))\n",
        "\"\"\""
      ]
    },
    {
      "cell_type": "code",
      "execution_count": 26,
      "metadata": {
        "colab": {
          "base_uri": "https://localhost:8080/"
        },
        "id": "V4UeQKv5FZ49",
        "outputId": "2969c5c6-08a6-4e31-fe94-808c4d6c468b"
      },
      "outputs": [
        {
          "data": {
            "text/plain": [
              "<langchain_community.graphs.neo4j_graph.Neo4jGraph at 0x1e952eb8150>"
            ]
          },
          "execution_count": 26,
          "metadata": {},
          "output_type": "execute_result"
        }
      ],
      "source": [
        "graph"
      ]
    },
    {
      "cell_type": "code",
      "execution_count": 27,
      "metadata": {
        "colab": {
          "base_uri": "https://localhost:8080/"
        },
        "id": "9Mvnke_wFpJg",
        "outputId": "98b60e2e-ed08-4ea8-bd47-a09c5c5de9c8"
      },
      "outputs": [
        {
          "data": {
            "text/plain": [
              "[]"
            ]
          },
          "execution_count": 27,
          "metadata": {},
          "output_type": "execute_result"
        }
      ],
      "source": [
        "graph.query(movie_query)"
      ]
    },
    {
      "cell_type": "code",
      "execution_count": 28,
      "metadata": {
        "colab": {
          "base_uri": "https://localhost:8080/"
        },
        "id": "qYBkkT8hFp2C",
        "outputId": "492f6588-b485-48d4-f8a4-5460852ea7c0"
      },
      "outputs": [
        {
          "name": "stdout",
          "output_type": "stream",
          "text": [
            "Node properties:\n",
            "Person {name: STRING, born: STRING}\n",
            "Movie {title: STRING, released: INTEGER, id: STRING, imdbRating: FLOAT}\n",
            "Genre {name: STRING}\n",
            "Relationship properties:\n",
            "\n",
            "The relationships:\n",
            "(:Person)-[:ACTED_IN]->(:Movie)\n",
            "(:Person)-[:DIRECTED]->(:Movie)\n",
            "(:Movie)-[:IN_GENRE]->(:Genre)\n"
          ]
        }
      ],
      "source": [
        "graph.refresh_schema()\n",
        "print(graph.schema)"
      ]
    },
    {
      "cell_type": "code",
      "execution_count": 29,
      "metadata": {
        "id": "ReCmdsbdGR-d"
      },
      "outputs": [],
      "source": [
        "from langchain.chains import GraphCypherQAChain\n",
        "\n",
        "chain=GraphCypherQAChain.from_llm(llm=llm,graph=graph,verbose=True, allow_dangerous_requests=True)   # Making chain so that graph can be used to answer any query"
      ]
    },
    {
      "cell_type": "code",
      "execution_count": 30,
      "metadata": {
        "colab": {
          "base_uri": "https://localhost:8080/"
        },
        "id": "RDRq58JMKhXE",
        "outputId": "5fa6c922-66c1-4a31-8eb4-8a05dc41bf91"
      },
      "outputs": [
        {
          "name": "stdout",
          "output_type": "stream",
          "text": [
            "\n",
            "\n",
            "\u001b[1m> Entering new GraphCypherQAChain chain...\u001b[0m\n",
            "Generated Cypher:\n",
            "\u001b[32;1m\u001b[1;3mMATCH (m:Movie {title: \"GoldenEye\"})<-[:DIRECTED]-(p:Person) RETURN p.name\u001b[0m\n",
            "Full Context:\n",
            "\u001b[32;1m\u001b[1;3m[{'p.name': 'Martin Campbell'}]\u001b[0m\n",
            "\n",
            "\u001b[1m> Finished chain.\u001b[0m\n"
          ]
        },
        {
          "data": {
            "text/plain": [
              "{'query': 'Who was the director of the moview GoldenEye',\n",
              " 'result': 'Martin Campbell  \\n'}"
            ]
          },
          "execution_count": 30,
          "metadata": {},
          "output_type": "execute_result"
        }
      ],
      "source": [
        "response=chain.invoke({\"query\":\"Who was the director of the moview GoldenEye\"})\n",
        "\n",
        "response"
      ]
    },
    {
      "cell_type": "code",
      "execution_count": null,
      "metadata": {
        "id": "DAT9Y4BbNUNt"
      },
      "outputs": [],
      "source": []
    }
  ],
  "metadata": {
    "colab": {
      "provenance": []
    },
    "kernelspec": {
      "display_name": "venv",
      "language": "python",
      "name": "python3"
    },
    "language_info": {
      "codemirror_mode": {
        "name": "ipython",
        "version": 3
      },
      "file_extension": ".py",
      "mimetype": "text/x-python",
      "name": "python",
      "nbconvert_exporter": "python",
      "pygments_lexer": "ipython3",
      "version": "3.11.4"
    }
  },
  "nbformat": 4,
  "nbformat_minor": 0
}
